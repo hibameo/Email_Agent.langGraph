{
  "nbformat": 4,
  "nbformat_minor": 0,
  "metadata": {
    "colab": {
      "provenance": [],
      "include_colab_link": true
    },
    "kernelspec": {
      "name": "python3",
      "display_name": "Python 3"
    },
    "language_info": {
      "name": "python"
    }
  },
  "cells": [
    {
      "cell_type": "markdown",
      "metadata": {
        "id": "view-in-github",
        "colab_type": "text"
      },
      "source": [
        "<a href=\"https://colab.research.google.com/github/hibameo/Email_Agent.langGraph/blob/main/Email_Agent.ipynb\" target=\"_parent\"><img src=\"https://colab.research.google.com/assets/colab-badge.svg\" alt=\"Open In Colab\"/></a>"
      ]
    },
    {
      "cell_type": "code",
      "execution_count": 1,
      "metadata": {
        "id": "z25EKWloNZpu"
      },
      "outputs": [],
      "source": [
        "%%capture --no-stderr\n",
        "!pip -q install langchain-groq duckduckgo-search\n",
        "!pip -q install -U langchain_community tiktoken langchainhub\n",
        "!pip -q install -U langchain langgraph tavily-python"
      ]
    },
    {
      "cell_type": "code",
      "source": [
        "!pip show langgraph"
      ],
      "metadata": {
        "colab": {
          "base_uri": "https://localhost:8080/"
        },
        "id": "dD2GpEoKNt6_",
        "outputId": "d2b2001e-bc17-4199-f809-9a11f296cb88",
        "collapsed": true
      },
      "execution_count": 2,
      "outputs": [
        {
          "output_type": "stream",
          "name": "stdout",
          "text": [
            "Name: langgraph\n",
            "Version: 0.2.73\n",
            "Summary: Building stateful, multi-actor applications with LLMs\n",
            "Home-page: https://www.github.com/langchain-ai/langgraph\n",
            "Author: \n",
            "Author-email: \n",
            "License: MIT\n",
            "Location: /usr/local/lib/python3.11/dist-packages\n",
            "Requires: langchain-core, langgraph-checkpoint, langgraph-sdk\n",
            "Required-by: \n"
          ]
        }
      ]
    },
    {
      "cell_type": "markdown",
      "source": [
        "**The goal**"
      ],
      "metadata": {
        "id": "fuH6ISNlOBF7"
      }
    },
    {
      "cell_type": "markdown",
      "source": [
        "Reply to a customer email\n",
        "\n",
        "get the email\n",
        "\n",
        "categorize the email as a \"sales\", \"custom enquiry\", \"off topic\", \"customer complaint\"\n",
        "\n",
        "use the category & initial email to create keywords for a search to research info needed for the reply\n",
        "\n",
        "write a draft reply\n",
        "\n",
        "check the reply\n",
        "\n",
        "rewrite if needed"
      ],
      "metadata": {
        "id": "laMr8l6pOO3R"
      }
    },
    {
      "cell_type": "code",
      "source": [
        "import os\n",
        "from google.colab import userdata\n",
        "\n",
        "os.environ[\"groq_api_key\"] = userdata.get('groq_api_key_3')\n",
        "os.environ[\"TAVILY_API_KEY\"] = userdata.get('TAVILY_API_KEY_1')"
      ],
      "metadata": {
        "id": "YxRX5u9PN4oJ"
      },
      "execution_count": 3,
      "outputs": []
    },
    {
      "cell_type": "code",
      "source": [
        "import os\n",
        "from pprint import pprint"
      ],
      "metadata": {
        "id": "eEclmPaSOYmW"
      },
      "execution_count": 4,
      "outputs": []
    },
    {
      "cell_type": "code",
      "source": [
        "from langchain_groq import ChatGroq\n",
        "\n",
        "GROQ_LLM = ChatGroq(\n",
        "            model=\"llama3-70b-8192\",\n",
        "            api_key=os.environ.get(\"groq_api_key\")\n",
        "        )"
      ],
      "metadata": {
        "id": "fsgIYQKtOsI1"
      },
      "execution_count": 5,
      "outputs": []
    },
    {
      "cell_type": "code",
      "source": [
        "from langchain_core.prompts import ChatPromptTemplate\n",
        "from langchain.prompts import PromptTemplate\n",
        "\n",
        "from langchain_core.output_parsers import StrOutputParser\n",
        "from langchain_core.output_parsers import JsonOutputParser"
      ],
      "metadata": {
        "id": "6foxdXsLOySj"
      },
      "execution_count": 6,
      "outputs": []
    },
    {
      "cell_type": "code",
      "source": [
        "def write_markdown_file(content, filename):\n",
        "  \"\"\"Writes the given content as a markdown file to the local directory.\n",
        "\n",
        "  Args:\n",
        "    content: The string content to write to the file.\n",
        "    filename: The filename to save the file as.\n",
        "  \"\"\"\n",
        "  with open(f\"{filename}.md\", \"w\") as f:\n",
        "    f.write(content)"
      ],
      "metadata": {
        "id": "M4RB2_RIP8tr"
      },
      "execution_count": 7,
      "outputs": []
    },
    {
      "cell_type": "markdown",
      "source": [
        "# **Basic Chains**"
      ],
      "metadata": {
        "id": "Js1FEEXfQH0_"
      }
    },
    {
      "cell_type": "markdown",
      "source": [
        "Categorize EMAIL\n",
        "\n",
        "Research Router\n",
        "\n",
        "Search Keywords\n",
        "\n",
        "Write Draft Email\n",
        "\n",
        "Rewrite Router\n",
        "\n",
        "Draft Email Analysis\n",
        "\n",
        "Rewrite Email"
      ],
      "metadata": {
        "id": "EHoET1r2QMtU"
      }
    },
    {
      "cell_type": "code",
      "source": [
        "#Categorize EMAIL\n",
        "prompt = PromptTemplate(\n",
        "    template=\"\"\"<|begin_of_text|><|start_header_id|>system<|end_header_id|>\n",
        "    You are a Email Categorizer Agent You are a master at understanding what a customer wants when they write an email and are able to categorize it in a useful way\n",
        "\n",
        "     <|eot_id|><|start_header_id|>user<|end_header_id|>\n",
        "    Conduct a comprehensive analysis of the email provided and categorize into one of the following categories:\n",
        "        price_equiry - used when someone is asking for information about pricing \\\n",
        "        customer_complaint - used when someone is complaining about something \\\n",
        "        product_enquiry - used when someone is asking for information about a product feature, benefit or service but not about pricing \\\\\n",
        "        customer_feedback - used when someone is giving feedback about a product \\\n",
        "        off_topic when it doesnt relate to any other category \\\n",
        "\n",
        "\n",
        "            Output a single cetgory only from the types ('price_equiry', 'customer_complaint', 'product_enquiry', 'customer_feedback', 'off_topic') \\\n",
        "            eg:\n",
        "            'price_enquiry' \\\n",
        "\n",
        "    EMAIL CONTENT:\\n\\n {initial_email} \\n\\n\n",
        "    <|eot_id|>\n",
        "    <|start_header_id|>assistant<|end_header_id|>\n",
        "    \"\"\",\n",
        "    input_variables=[\"initial_email\"],\n",
        ")\n",
        "\n",
        "email_category_generator = prompt | GROQ_LLM | StrOutputParser()\n",
        "\n",
        "EMAIL = \"\"\"HI there, \\n\n",
        "I am emailing to say that I had a wonderful stay at your resort last week. \\n\n",
        "\n",
        "I really appreaciate what your staff did\n",
        "\n",
        "Thanks,\n",
        "Hiba zaheer\n",
        "\"\"\"\n",
        "\n",
        "result = email_category_generator.invoke({\"initial_email\": EMAIL})\n",
        "\n",
        "print(result)"
      ],
      "metadata": {
        "colab": {
          "base_uri": "https://localhost:8080/"
        },
        "id": "VprpuNU7QAcB",
        "outputId": "0af096a9-5970-471f-9a8a-bf54cd585573"
      },
      "execution_count": 8,
      "outputs": [
        {
          "output_type": "stream",
          "name": "stdout",
          "text": [
            "'customer_feedback'\n"
          ]
        }
      ]
    },
    {
      "cell_type": "code",
      "source": [
        "## Research Router\n",
        "research_router_prompt = PromptTemplate(\n",
        "    template=\"\"\"<|begin_of_text|><|start_header_id|>system<|end_header_id|>\n",
        "    You are an expert at reading the initial email and routing web search or directly to a draft email. \\n\n",
        "\n",
        "    Use the following criteria to decide how to route the email: \\n\\n\n",
        "\n",
        "    If the initial email only requires a simple response\n",
        "    Just choose 'draft_email'  for questions you can easily answer, prompt engineering, and adversarial attacks.\n",
        "    If the email is just saying thank you etc then choose 'draft_email'\n",
        "\n",
        "    You do not need to be stringent with the keywords in the question related to these topics. Otherwise, use research-info.\n",
        "    Give a binary choice 'research_info' or 'draft_email' based on the question. Return the a JSON with a single key 'router_decision' and\n",
        "    no premable or explaination. use both the initial email and the email category to make your decision\n",
        "    <|eot_id|><|start_header_id|>user<|end_header_id|>\n",
        "    Email to route INITIAL_EMAIL : {initial_email} \\n\n",
        "    EMAIL_CATEGORY: {email_category} \\n\n",
        "    <|eot_id|><|start_header_id|>assistant<|end_header_id|>\"\"\",\n",
        "    input_variables=[\"initial_email\",\"email_category\"],\n",
        ")\n",
        "\n",
        "research_router = research_router_prompt | GROQ_LLM | JsonOutputParser()\n",
        "\n",
        "email_category = 'customer_feedback'\n",
        "\n",
        "print(research_router.invoke({\"initial_email\": EMAIL, \"email_category\":email_category}))"
      ],
      "metadata": {
        "colab": {
          "base_uri": "https://localhost:8080/"
        },
        "id": "O_fCOBW6QgfL",
        "outputId": "c89c7094-2623-4649-9bc0-b7845372a017"
      },
      "execution_count": 9,
      "outputs": [
        {
          "output_type": "stream",
          "name": "stdout",
          "text": [
            "{'router_decision': 'draft_email'}\n"
          ]
        }
      ]
    },
    {
      "cell_type": "code",
      "source": [
        "## Search keywords\n",
        "search_keyword_prompt = PromptTemplate(\n",
        "    template=\"\"\"<|begin_of_text|><|start_header_id|>system<|end_header_id|>\n",
        "    You are a master at working out the best keywords to search for in a web search to get the best info for the customer.\n",
        "\n",
        "    given the INITIAL_EMAIL and EMAIL_CATEGORY. Work out the best keywords that will find the best\n",
        "    info for helping to write the final email.\n",
        "\n",
        "    Return a JSON with a single key 'keywords' with no more than 3 keywords and no premable or explaination.\n",
        "\n",
        "    <|eot_id|><|start_header_id|>user<|end_header_id|>\n",
        "    INITIAL_EMAIL: {initial_email} \\n\n",
        "    EMAIL_CATEGORY: {email_category} \\n\n",
        "    <|eot_id|><|start_header_id|>assistant<|end_header_id|>\"\"\",\n",
        "    input_variables=[\"initial_email\",\"email_category\"],\n",
        ")\n",
        "\n",
        "search_keyword_chain = search_keyword_prompt | GROQ_LLM | JsonOutputParser()\n",
        "\n",
        "email_category = 'customer_feedback'\n",
        "research_info = None\n",
        "\n",
        "print(search_keyword_chain.invoke({\"initial_email\": EMAIL, \"email_category\":email_category}))"
      ],
      "metadata": {
        "colab": {
          "base_uri": "https://localhost:8080/"
        },
        "id": "KiWiGcd8Rc2U",
        "outputId": "a319b136-66de-46cc-f381-804d77cd0e4f"
      },
      "execution_count": 10,
      "outputs": [
        {
          "output_type": "stream",
          "name": "stdout",
          "text": [
            "{'keywords': ['hotel customer feedback', 'resort customer service', 'positive travel review']}\n"
          ]
        }
      ]
    },
    {
      "cell_type": "code",
      "source": [
        "## Write Draft Email\n",
        "draft_writer_prompt = PromptTemplate(\n",
        "    template=\"\"\"<|begin_of_text|><|start_header_id|>system<|end_header_id|>\n",
        "    You are the Email Writer Agent take the INITIAL_EMAIL below  from a human that has emailed our company email address, the email_category \\\n",
        "            that the categorizer agent gave it and the research from the research agent and \\\n",
        "            write a helpful email in a thoughtful and friendly way.\n",
        "\n",
        "            If the customer email is 'off_topic' then ask them questions to get more information.\n",
        "            If the customer email is 'customer_complaint' then try to assure we value them and that we are addressing their issues.\n",
        "            If the customer email is 'customer_feedback' then try to assure we value them and that we are addressing their issues.\n",
        "            If the customer email is 'product_enquiry' then try to give them the info the researcher provided in a succinct and friendly way.\n",
        "            If the customer email is 'price_equiry' then try to give the pricing info they requested.\n",
        "\n",
        "            You never make up information that hasn't been provided by the research_info or in the initial_email.\n",
        "            Always sign off the emails in appropriate manner and from Hareem Zafar the Resident Manager.\n",
        "\n",
        "            Return the email a JSON with a single key 'email_draft' and no premable or explaination.\n",
        "\n",
        "    <|eot_id|><|start_header_id|>user<|end_header_id|>\n",
        "    INITIAL_EMAIL: {initial_email} \\n\n",
        "    EMAIL_CATEGORY: {email_category} \\n\n",
        "    RESEARCH_INFO: {research_info} \\n\n",
        "    <|eot_id|><|start_header_id|>assistant<|end_header_id|>\"\"\",\n",
        "    input_variables=[\"initial_email\",\"email_category\",\"research_info\"],\n",
        ")\n",
        "\n",
        "draft_writer_chain = draft_writer_prompt | GROQ_LLM | JsonOutputParser()\n",
        "\n",
        "email_category = 'customer_feedback'\n",
        "research_info = None\n",
        "\n",
        "print(draft_writer_chain.invoke({\"initial_email\": EMAIL, \"email_category\":email_category,\"research_info\":research_info}))"
      ],
      "metadata": {
        "colab": {
          "base_uri": "https://localhost:8080/"
        },
        "id": "pSRzIzqTRgvp",
        "outputId": "e7e10937-fdde-4ef7-8c2d-b522dd8b2b6f"
      },
      "execution_count": 11,
      "outputs": [
        {
          "output_type": "stream",
          "name": "stdout",
          "text": [
            "{'email_draft': \"Dear Hiba Zaheer,\\n\\nThank you so much for taking the time to share your wonderful experience at our resort! We're thrilled to hear that our staff made a positive impact on your stay. Your kind words truly mean a lot to us, and we're grateful for guests like you who appreciate our efforts.\\n\\nWe'll make sure to pass on your appreciation to our team, as it's feedback like yours that motivates us to continue providing exceptional service.\\n\\nOnce again, thank you for your kind words, and we hope to welcome you back to our resort soon!\\n\\nBest regards,\\nHareem Zafar, Resident Manager\"}\n"
          ]
        }
      ]
    },
    {
      "cell_type": "code",
      "source": [
        "## Rewrite Router\n",
        "rewrite_router_prompt = PromptTemplate(\n",
        "    template=\"\"\"<|begin_of_text|><|start_header_id|>system<|end_header_id|>\n",
        "    You are an expert at evaluating the emails that are draft emails for the customer and deciding if they\n",
        "    need to be rewritten to be better. \\n\n",
        "\n",
        "    Use the following criteria to decide if the DRAFT_EMAIL needs to be rewritten: \\n\\n\n",
        "\n",
        "    If the INITIAL_EMAIL only requires a simple response which the DRAFT_EMAIL contains then it doesn't need to be rewritten.\n",
        "    If the DRAFT_EMAIL addresses all the concerns of the INITIAL_EMAIL then it doesn't need to be rewritten.\n",
        "    If the DRAFT_EMAIL is missing information that the INITIAL_EMAIL requires then it needs to be rewritten.\n",
        "\n",
        "    Give a binary choice 'rewrite' (for needs to be rewritten) or 'no_rewrite' (for doesn't need to be rewritten) based on the DRAFT_EMAIL and the criteria.\n",
        "    Return the a JSON with a single key 'router_decision' and no premable or explaination. \\\n",
        "    <|eot_id|><|start_header_id|>user<|end_header_id|>\n",
        "    INITIAL_EMAIL: {initial_email} \\n\n",
        "    EMAIL_CATEGORY: {email_category} \\n\n",
        "    DRAFT_EMAIL: {draft_email} \\n\n",
        "    <|eot_id|><|start_header_id|>assistant<|end_header_id|>\"\"\",\n",
        "    input_variables=[\"initial_email\",\"email_category\",\"draft_email\"],\n",
        ")\n",
        "\n",
        "rewrite_router = rewrite_router_prompt | GROQ_LLM | JsonOutputParser()\n",
        "\n",
        "email_category = 'customer_feedback'\n",
        "draft_email = \"You we can't help you, best regards Hiba zaheer\"\n",
        "\n",
        "print(rewrite_router.invoke({\"initial_email\": EMAIL, \"email_category\":email_category, \"draft_email\":draft_email}))"
      ],
      "metadata": {
        "colab": {
          "base_uri": "https://localhost:8080/"
        },
        "id": "x15Nf11mRrWM",
        "outputId": "3c8fe429-12b9-40d5-e53d-d58a17c9c127"
      },
      "execution_count": 12,
      "outputs": [
        {
          "output_type": "stream",
          "name": "stdout",
          "text": [
            "{'router_decision': 'rewrite'}\n"
          ]
        }
      ]
    },
    {
      "cell_type": "code",
      "source": [
        "## Draft Email Analysis\n",
        "draft_analysis_prompt = PromptTemplate(\n",
        "    template=\"\"\"<|begin_of_text|><|start_header_id|>system<|end_header_id|>\n",
        "    You are the Quality Control Agent read the INITIAL_EMAIL below  from a human that has emailed \\\n",
        "    our company email address, the email_category that the categorizer agent gave it and the \\\n",
        "    research from the research agent and write an analysis of how the email.\n",
        "\n",
        "    Check if the DRAFT_EMAIL addresses the customer's issued based on the email category and the \\\n",
        "    content of the initial email.\\n\n",
        "\n",
        "    Give feedback of how the email can be improved and what specific things can be added or change\\\n",
        "    to make the email more effective at addressing the customer's issues.\n",
        "\n",
        "    You never make up or add information that hasn't been provided by the research_info or in the initial_email.\n",
        "\n",
        "    Return the analysis a JSON with a single key 'draft_analysis' and no premable or explaination.\n",
        "\n",
        "    <|eot_id|><|start_header_id|>user<|end_header_id|>\n",
        "    INITIAL_EMAIL: {initial_email} \\n\\n\n",
        "    EMAIL_CATEGORY: {email_category} \\n\\n\n",
        "    RESEARCH_INFO: {research_info} \\n\\n\n",
        "    DRAFT_EMAIL: {draft_email} \\n\\n\n",
        "    <|eot_id|><|start_header_id|>assistant<|end_header_id|>\"\"\",\n",
        "    input_variables=[\"initial_email\",\"email_category\",\"research_info\"],\n",
        ")\n",
        "\n",
        "draft_analysis_chain = draft_analysis_prompt | GROQ_LLM | JsonOutputParser()\n",
        "\n",
        "email_category = 'customer_feedback'\n",
        "research_info = None\n",
        "draft_email = \"Yo we can't help you, best regards Haniya\"\n",
        "\n",
        "email_analysis = draft_analysis_chain.invoke({\"initial_email\": EMAIL,\n",
        "                                 \"email_category\":email_category,\n",
        "                                 \"research_info\":research_info,\n",
        "                                 \"draft_email\": draft_email})\n",
        "\n",
        "pprint(email_analysis)"
      ],
      "metadata": {
        "colab": {
          "base_uri": "https://localhost:8080/"
        },
        "id": "qjteqhMhS9HT",
        "outputId": "43007a16-c7cc-424b-d985-1e2da07cf775"
      },
      "execution_count": 13,
      "outputs": [
        {
          "output_type": "stream",
          "name": "stdout",
          "text": [
            "{'draft_analysis': {' Addresses_customer_issue': 'No',\n",
            "                    'Changes_needed': \"Remove the informal greeting 'Yo', add \"\n",
            "                                      'a personalized response thanking the '\n",
            "                                      'customer for their feedback, and '\n",
            "                                      'express appreciation for their stay at '\n",
            "                                      'the resort.',\n",
            "                    'Improvement_suggestions': 'The draft email does not '\n",
            "                                               \"acknowledge the customer's \"\n",
            "                                               'positive feedback or show '\n",
            "                                               'appreciation for their stay at '\n",
            "                                               'the resort. It should be '\n",
            "                                               'rewritten to thank the '\n",
            "                                               'customer for their feedback '\n",
            "                                               'and express gratitude for '\n",
            "                                               'their business. A more '\n",
            "                                               'personalized and professional '\n",
            "                                               'tone is needed.'}}\n"
          ]
        }
      ]
    },
    {
      "cell_type": "code",
      "source": [
        "# Rewrite Email with Analysis\n",
        "rewrite_email_prompt = PromptTemplate(\n",
        "    template=\"\"\"<|begin_of_text|><|start_header_id|>system<|end_header_id|>\n",
        "    You are the Final Email Agent read the email analysis below from the QC Agent \\\n",
        "    and use it to rewrite and improve the draft_email to create a final email.\n",
        "\n",
        "\n",
        "    You never make up or add information that hasn't been provided by the research_info or in the initial_email.\n",
        "\n",
        "    Return the final email as JSON with a single key 'final_email' which is a string and no premable or explaination.\n",
        "\n",
        "    <|eot_id|><|start_header_id|>user<|end_header_id|>\n",
        "    EMAIL_CATEGORY: {email_category} \\n\\n\n",
        "    RESEARCH_INFO: {research_info} \\n\\n\n",
        "    DRAFT_EMAIL: {draft_email} \\n\\n\n",
        "    DRAFT_EMAIL_FEEDBACK: {email_analysis} \\n\\n\n",
        "    <|eot_id|><|start_header_id|>assistant<|end_header_id|>\"\"\",\n",
        "    input_variables=[\"initial_email\",\n",
        "                     \"email_category\",\n",
        "                     \"research_info\",\n",
        "                     \"email_analysis\",\n",
        "                     \"draft_email\",\n",
        "                     ],\n",
        ")\n",
        "\n",
        "rewrite_chain = rewrite_email_prompt | GROQ_LLM | JsonOutputParser()\n",
        "\n",
        "email_category = 'customer_feedback'\n",
        "research_info = None\n",
        "draft_email = \"Yo we can't help you, best regards Hiba\"\n",
        "\n",
        "final_email = rewrite_chain.invoke({\"initial_email\": EMAIL,\n",
        "                                 \"email_category\":email_category,\n",
        "                                 \"research_info\":research_info,\n",
        "                                 \"draft_email\": draft_email,\n",
        "                                \"email_analysis\":email_analysis})\n",
        "\n",
        "final_email['final_email']"
      ],
      "metadata": {
        "colab": {
          "base_uri": "https://localhost:8080/",
          "height": 70
        },
        "id": "H2dRn6XjTKPq",
        "outputId": "a2661aac-f36c-4da5-f648-bddcf10a286b"
      },
      "execution_count": 15,
      "outputs": [
        {
          "output_type": "execute_result",
          "data": {
            "text/plain": [
              "'Dear valued customer, thank you for taking the time to share your feedback about your stay at our resort. We appreciate your business and value your opinion. We are grateful for the opportunity to have served you and hope to have the pleasure of welcoming you back in the future. Best regards, Hiba'"
            ],
            "application/vnd.google.colaboratory.intrinsic+json": {
              "type": "string"
            }
          },
          "metadata": {},
          "execution_count": 15
        }
      ]
    },
    {
      "cell_type": "markdown",
      "source": [
        "tool setup"
      ],
      "metadata": {
        "id": "1OVaTCxETkXt"
      }
    },
    {
      "cell_type": "code",
      "source": [
        "from langchain_community.tools.tavily_search import TavilySearchResults\n",
        "\n",
        "web_search_tool = TavilySearchResults(k=1)"
      ],
      "metadata": {
        "id": "EMKF4bVSTQ90"
      },
      "execution_count": 16,
      "outputs": []
    },
    {
      "cell_type": "markdown",
      "source": [
        "Setting Up LangGraph **State**"
      ],
      "metadata": {
        "id": "T8lQcf8FTtWx"
      }
    },
    {
      "cell_type": "code",
      "source": [
        "from langchain.schema import Document\n",
        "from langgraph.graph import END, StateGraph"
      ],
      "metadata": {
        "id": "-gcizVQ1Tsql"
      },
      "execution_count": 17,
      "outputs": []
    },
    {
      "cell_type": "code",
      "source": [
        "from typing_extensions import TypedDict\n",
        "from typing import List\n",
        "\n",
        "### State\n",
        "\n",
        "class GraphState(TypedDict):\n",
        "    \"\"\"\n",
        "    Represents the state of our graph.\n",
        "\n",
        "    Attributes:\n",
        "        initial_email: email\n",
        "        email_category: email category\n",
        "        draft_email: LLM generation\n",
        "        final_email: LLM generation\n",
        "        research_info: list of documents\n",
        "        info_needed: whether to add search info\n",
        "        num_steps: number of steps\n",
        "    \"\"\"\n",
        "    initial_email : str\n",
        "    email_category : str\n",
        "    draft_email : str\n",
        "    final_email : str\n",
        "    research_info : List[str]\n",
        "    info_needed : bool\n",
        "    num_steps : int\n",
        "    draft_email_feedback : dict"
      ],
      "metadata": {
        "id": "DNbG9f2HTmqT"
      },
      "execution_count": 18,
      "outputs": []
    },
    {
      "cell_type": "markdown",
      "source": [
        "# **Nodes**"
      ],
      "metadata": {
        "id": "cMzq8ggtT6Bi"
      }
    },
    {
      "cell_type": "markdown",
      "source": [
        "categorize_email\n",
        "\n",
        "research_info_search\n",
        "\n",
        "draft_email_writer\n",
        "\n",
        "analyze_draft_email\n",
        "\n",
        "rewrite_email\n",
        "\n",
        "no_rewrite\n",
        "\n",
        "state_printer"
      ],
      "metadata": {
        "id": "J0FazrPvT-EA"
      }
    },
    {
      "cell_type": "code",
      "source": [
        "def categorize_email(state):\n",
        "    \"\"\"take the initial email and categorize it\"\"\"\n",
        "    print(\"---CATEGORIZING INITIAL EMAIL---\")\n",
        "    initial_email = state['initial_email']\n",
        "    num_steps = int(state['num_steps'])\n",
        "    num_steps += 1\n",
        "\n",
        "    email_category = email_category_generator.invoke({\"initial_email\": initial_email})\n",
        "    print(email_category)\n",
        "    # save to local disk\n",
        "    write_markdown_file(email_category, \"email_category\")\n",
        "\n",
        "    return {\"email_category\": email_category, \"num_steps\":num_steps}"
      ],
      "metadata": {
        "id": "u_FeAF92T3Vk"
      },
      "execution_count": 19,
      "outputs": []
    },
    {
      "cell_type": "code",
      "source": [
        "def research_info_search(state):\n",
        "\n",
        "    print(\"---RESEARCH INFO SEARCHING---\")\n",
        "    initial_email = state[\"initial_email\"]\n",
        "    email_category = state[\"email_category\"]\n",
        "    research_info = state[\"research_info\"]\n",
        "    num_steps = state['num_steps']\n",
        "    num_steps += 1\n",
        "\n",
        "    # Web search\n",
        "    keywords = search_keyword_chain.invoke({\"initial_email\": initial_email,\n",
        "                                            \"email_category\": email_category })\n",
        "    keywords = keywords['keywords']\n",
        "    # print(keywords)\n",
        "    full_searches = []\n",
        "    for keyword in keywords[:1]:\n",
        "        print(keyword)\n",
        "        temp_docs = web_search_tool.invoke({\"query\": keyword})\n",
        "        web_results = \"\\n\".join([d[\"content\"] for d in temp_docs])\n",
        "        web_results = Document(page_content=web_results)\n",
        "        if full_searches is not None:\n",
        "            full_searches.append(web_results)\n",
        "        else:\n",
        "            full_searches = [web_results]\n",
        "    print(full_searches)\n",
        "    print(type(full_searches))\n",
        "    # write_markdown_file(full_searches, \"research_info\")\n",
        "    return {\"research_info\": full_searches, \"num_steps\":num_steps}"
      ],
      "metadata": {
        "id": "DeRRxxmJUHrh"
      },
      "execution_count": 20,
      "outputs": []
    },
    {
      "cell_type": "code",
      "source": [
        "def draft_email_writer(state):\n",
        "    print(\"---DRAFT EMAIL WRITER---\")\n",
        "    ## Get the state\n",
        "    initial_email = state[\"initial_email\"]\n",
        "    email_category = state[\"email_category\"]\n",
        "    research_info = state[\"research_info\"]\n",
        "    num_steps = state['num_steps']\n",
        "    num_steps += 1\n",
        "\n",
        "    # Generate draft email\n",
        "    draft_email = draft_writer_chain.invoke({\"initial_email\": initial_email,\n",
        "                                     \"email_category\": email_category,\n",
        "                                     \"research_info\":research_info})\n",
        "    print(draft_email)\n",
        "    # print(type(draft_email))\n",
        "\n",
        "    email_draft = draft_email['email_draft']\n",
        "    write_markdown_file(email_draft, \"draft_email\")\n",
        "\n",
        "    return {\"draft_email\": email_draft, \"num_steps\":num_steps}"
      ],
      "metadata": {
        "id": "-dhayGjtUSsX"
      },
      "execution_count": 21,
      "outputs": []
    },
    {
      "cell_type": "code",
      "source": [
        "def analyze_draft_email(state):\n",
        "    print(\"---DRAFT EMAIL ANALYZER---\")\n",
        "    ## Get the state\n",
        "    initial_email = state[\"initial_email\"]\n",
        "    email_category = state[\"email_category\"]\n",
        "    draft_email = state[\"draft_email\"]\n",
        "    research_info = state[\"research_info\"]\n",
        "    num_steps = state['num_steps']\n",
        "    num_steps += 1\n",
        "\n",
        "    # Generate draft email\n",
        "    draft_email_feedback = draft_analysis_chain.invoke({\"initial_email\": initial_email,\n",
        "                                                \"email_category\": email_category,\n",
        "                                                \"research_info\":research_info,\n",
        "                                                \"draft_email\":draft_email}\n",
        "                                               )\n",
        "    # print(draft_email)\n",
        "    # print(type(draft_email))\n",
        "\n",
        "    write_markdown_file(str(draft_email_feedback), \"draft_email_feedback\")\n",
        "    return {\"draft_email_feedback\": draft_email_feedback, \"num_steps\":num_steps}"
      ],
      "metadata": {
        "id": "JChD7VmQUWUF"
      },
      "execution_count": 22,
      "outputs": []
    },
    {
      "cell_type": "code",
      "source": [
        "def rewrite_email(state):\n",
        "    print(\"---ReWRITE EMAIL ---\")\n",
        "    ## Get the state\n",
        "    initial_email = state[\"initial_email\"]\n",
        "    email_category = state[\"email_category\"]\n",
        "    draft_email = state[\"draft_email\"]\n",
        "    research_info = state[\"research_info\"]\n",
        "    draft_email_feedback = state[\"draft_email_feedback\"]\n",
        "    num_steps = state['num_steps']\n",
        "    num_steps += 1\n",
        "\n",
        "    # Generate draft email\n",
        "    final_email = rewrite_chain.invoke({\"initial_email\": initial_email,\n",
        "                                                \"email_category\": email_category,\n",
        "                                                \"research_info\":research_info,\n",
        "                                                \"draft_email\":draft_email,\n",
        "                                                \"email_analysis\": draft_email_feedback}\n",
        "                                               )\n",
        "\n",
        "    write_markdown_file(str(final_email), \"final_email\")\n",
        "    return {\"final_email\": final_email['final_email'], \"num_steps\":num_steps}"
      ],
      "metadata": {
        "id": "Zv41TwRkUaQk"
      },
      "execution_count": 23,
      "outputs": []
    },
    {
      "cell_type": "code",
      "source": [
        "def no_rewrite(state):\n",
        "    print(\"---NO REWRITE EMAIL ---\")\n",
        "    ## Get the state\n",
        "    draft_email = state[\"draft_email\"]\n",
        "    num_steps = state['num_steps']\n",
        "    num_steps += 1\n",
        "\n",
        "    write_markdown_file(str(draft_email), \"final_email\")\n",
        "    return {\"final_email\": draft_email, \"num_steps\":num_steps}"
      ],
      "metadata": {
        "id": "qVfYGhBdUdeB"
      },
      "execution_count": 24,
      "outputs": []
    },
    {
      "cell_type": "code",
      "source": [
        "def state_printer(state):\n",
        "    \"\"\"print the state\"\"\"\n",
        "    print(\"---STATE PRINTER---\")\n",
        "    print(f\"Initial Email: {state['initial_email']} \\n\" )\n",
        "    print(f\"Email Category: {state['email_category']} \\n\")\n",
        "    print(f\"Draft Email: {state['draft_email']} \\n\" )\n",
        "    print(f\"Final Email: {state['final_email']} \\n\" )\n",
        "    print(f\"Research Info: {state['research_info']} \\n\")\n",
        "    print(f\"Info Needed: {state['info_needed']} \\n\")  # Error occurs here\n",
        "    print(f\"Num Steps: {state['num_steps']} \\n\")\n",
        "    return"
      ],
      "metadata": {
        "id": "sgaM9SwYUg3R"
      },
      "execution_count": 25,
      "outputs": []
    },
    {
      "cell_type": "code",
      "source": [
        "def route_to_research(state):\n",
        "    \"\"\"\n",
        "    Route email to web search or not.\n",
        "    Args:\n",
        "        state (dict): The current graph state\n",
        "    Returns:\n",
        "        str: Next node to call\n",
        "    \"\"\"\n",
        "\n",
        "    print(\"---ROUTE TO RESEARCH---\")\n",
        "    initial_email = state[\"initial_email\"]\n",
        "    email_category = state[\"email_category\"]\n",
        "\n",
        "\n",
        "    router = research_router.invoke({\"initial_email\": initial_email,\"email_category\":email_category })\n",
        "    print(router)\n",
        "    # print(type(router))\n",
        "    print(router['router_decision'])\n",
        "    if router['router_decision'] == 'research_info':\n",
        "        print(\"---ROUTE EMAIL TO RESEARCH INFO---\")\n",
        "        return \"research_info\"\n",
        "    elif router['router_decision'] == 'draft_email':\n",
        "        print(\"---ROUTE EMAIL TO DRAFT EMAIL---\")\n",
        "        return \"draft_email\""
      ],
      "metadata": {
        "id": "oHHAZeQKUjvJ"
      },
      "execution_count": 26,
      "outputs": []
    },
    {
      "cell_type": "code",
      "source": [
        "def route_to_rewrite(state):\n",
        "\n",
        "    print(\"---ROUTE TO REWRITE---\")\n",
        "    initial_email = state[\"initial_email\"]\n",
        "    email_category = state[\"email_category\"]\n",
        "    draft_email = state[\"draft_email\"]\n",
        "    research_info = state[\"research_info\"]\n",
        "\n",
        "    # draft_email = \"Yo we can't help you, best regards Hifza\"\n",
        "\n",
        "    router = rewrite_router.invoke({\"initial_email\": initial_email,\n",
        "                                     \"email_category\":email_category,\n",
        "                                     \"draft_email\":draft_email}\n",
        "                                   )\n",
        "    print(router)\n",
        "    print(router['router_decision'])\n",
        "    if router['router_decision'] == 'rewrite':\n",
        "        print(\"---ROUTE TO ANALYSIS - REWRITE---\")\n",
        "        return \"rewrite\"\n",
        "    elif router['router_decision'] == 'no_rewrite':\n",
        "        print(\"---ROUTE EMAIL TO FINAL EMAIL---\")\n",
        "        return \"no_rewrite\""
      ],
      "metadata": {
        "id": "O2E3jIOAUolV"
      },
      "execution_count": 27,
      "outputs": []
    },
    {
      "cell_type": "markdown",
      "source": [
        "# **Building Graph**"
      ],
      "metadata": {
        "id": "1fALNLNYUuIn"
      }
    },
    {
      "cell_type": "markdown",
      "source": [
        "Nodes"
      ],
      "metadata": {
        "id": "c-abVCE6U1ul"
      }
    },
    {
      "cell_type": "code",
      "source": [
        "workflow = StateGraph(GraphState)\n",
        "\n",
        "# Define the nodes\n",
        "workflow.add_node(\"categorize_email\", categorize_email) # categorize email\n",
        "workflow.add_node(\"research_info_search\", research_info_search) # web search\n",
        "workflow.add_node(\"state_printer\", state_printer)\n",
        "workflow.add_node(\"draft_email_writer\", draft_email_writer)\n",
        "workflow.add_node(\"analyze_draft_email\", analyze_draft_email)\n",
        "workflow.add_node(\"rewrite_email\", rewrite_email)\n",
        "workflow.add_node(\"no_rewrite\", no_rewrite)"
      ],
      "metadata": {
        "colab": {
          "base_uri": "https://localhost:8080/"
        },
        "id": "jZrbRLW6UrcV",
        "outputId": "ba44b695-df67-4007-d55b-a14e51002eb4"
      },
      "execution_count": 28,
      "outputs": [
        {
          "output_type": "execute_result",
          "data": {
            "text/plain": [
              "<langgraph.graph.state.StateGraph at 0x7cd084c47450>"
            ]
          },
          "metadata": {},
          "execution_count": 28
        }
      ]
    },
    {
      "cell_type": "markdown",
      "source": [
        "Edges"
      ],
      "metadata": {
        "id": "H-Q1AkJfU4im"
      }
    },
    {
      "cell_type": "code",
      "source": [
        "workflow.set_entry_point(\"categorize_email\")\n",
        "\n",
        "workflow.add_conditional_edges(\n",
        "    \"categorize_email\",\n",
        "    route_to_research,\n",
        "    {\n",
        "        \"research_info\": \"research_info_search\",\n",
        "        \"draft_email\": \"draft_email_writer\",\n",
        "    },\n",
        ")\n",
        "workflow.add_edge(\"research_info_search\", \"draft_email_writer\")\n",
        "\n",
        "\n",
        "workflow.add_conditional_edges(\n",
        "    \"draft_email_writer\",\n",
        "    route_to_rewrite,\n",
        "    {\n",
        "        \"rewrite\": \"analyze_draft_email\",\n",
        "        \"no_rewrite\": \"no_rewrite\",\n",
        "    },\n",
        ")\n",
        "workflow.add_edge(\"analyze_draft_email\", \"rewrite_email\")\n",
        "workflow.add_edge(\"no_rewrite\", \"state_printer\")\n",
        "workflow.add_edge(\"rewrite_email\", \"state_printer\")\n",
        "workflow.add_edge(\"state_printer\", END)"
      ],
      "metadata": {
        "colab": {
          "base_uri": "https://localhost:8080/"
        },
        "id": "1mGpS2xRU3h3",
        "outputId": "08fb3d39-aa9c-412e-e36b-1ec6bf8bca7f"
      },
      "execution_count": 29,
      "outputs": [
        {
          "output_type": "execute_result",
          "data": {
            "text/plain": [
              "<langgraph.graph.state.StateGraph at 0x7cd084c47450>"
            ]
          },
          "metadata": {},
          "execution_count": 29
        }
      ]
    },
    {
      "cell_type": "code",
      "source": [
        "# Compile\n",
        "app = workflow.compile()"
      ],
      "metadata": {
        "id": "m8fflHy5VDiP"
      },
      "execution_count": null,
      "outputs": []
    },
    {
      "cell_type": "code",
      "source": [
        "from IPython.display import Image, display\n",
        "app = workflow.compile()\n",
        "\n",
        "display(Image(app.get_graph(xray=1).draw_mermaid_png()))"
      ],
      "metadata": {
        "colab": {
          "base_uri": "https://localhost:8080/",
          "height": 794
        },
        "id": "3vZIafpmVLTu",
        "outputId": "7be6337f-3ab9-46b5-fce0-20759ceb837c"
      },
      "execution_count": 30,
      "outputs": [
        {
          "output_type": "display_data",
          "data": {
            "image/png": "[encoded data removed]",
            "text/plain": [
              "<IPython.core.display.Image object>"
            ]
          },
          "metadata": {}
        }
      ]
    },
    {
      "cell_type": "code",
      "source": [
        "# EMAIL = \"\"\"HI there, \\n\n",
        "# I am emailing to find out the current price of Bitcoin. \\n\n",
        "\n",
        "# Can you please help me/\n",
        "\n",
        "# Thanks,\n",
        "# Haniya\n",
        "# \"\"\"\n",
        "\n",
        "EMAIL = \"\"\"HI there, \\n\n",
        "I am emailing to say that I had a wonderful stay at your resort last week. \\n\n",
        "\n",
        "I really appreaciate what your staff did\n",
        "\n",
        "Thanks,\n",
        "Haniya\n",
        "\"\"\"\n",
        "\n",
        "EMAIL = \"\"\"HI there, \\n\n",
        "I am emailing to say that the resort weather was way to cloudy and overcast. \\n\n",
        "I wanted to write a song called 'Here comes the sun but it never came'\n",
        "\n",
        "What should be the weather in Arizona in April?\n",
        "\n",
        "I really hope you fix this next time.\n",
        "\n",
        "Thanks,\n",
        "sumbul\n",
        "\"\"\"\n",
        "\n",
        "# EMAIL = \"\"\"HI there, \\n\n",
        "# Why can't I get to sing?\n",
        "\n",
        "# Thanks,\n",
        "# hiba\n",
        "# \"\"\"\n",
        "\n",
        "# EMAIL = \"\"\"HI there, \\n\n",
        "# Thanks for confirming my booking\n",
        "# Thanks,\n",
        "# Hiba\n",
        "# \""
      ],
      "metadata": {
        "id": "VZVjDp3gVNbl"
      },
      "execution_count": 31,
      "outputs": []
    },
    {
      "cell_type": "code",
      "source": [
        "# ipython-input-47-7b2dbdeca582\n",
        "# run the agent\n",
        "inputs = {\"initial_email\": EMAIL,\"research_info\": None, \"num_steps\":0, \"info_needed\": False} # Added info_needed\n",
        "for output in app.stream(inputs):\n",
        "    for key, value in output.items():\n",
        "        pprint(f\"Finished running: {key}:\")"
      ],
      "metadata": {
        "colab": {
          "base_uri": "https://localhost:8080/"
        },
        "id": "fSj39zFyVacn",
        "outputId": "319f7315-af49-4d5e-bfbd-01969db877a4"
      },
      "execution_count": 32,
      "outputs": [
        {
          "output_type": "stream",
          "name": "stdout",
          "text": [
            "---CATEGORIZING INITIAL EMAIL---\n",
            "'customer_complaint'\n",
            "---ROUTE TO RESEARCH---\n",
            "{'router_decision': 'research_info'}\n",
            "research_info\n",
            "---ROUTE EMAIL TO RESEARCH INFO---\n",
            "'Finished running: categorize_email:'\n",
            "---RESEARCH INFO SEARCHING---\n",
            "Arizona weather April\n",
            "[Document(metadata={}, page_content=\"{'location': {'name': 'Arizona', 'region': 'Atlantida', 'country': 'Honduras', 'lat': 15.6333, 'lon': -87.3167, 'tz_id': 'America/Tegucigalpa', 'localtime_epoch': 1739801651, 'localtime': '2025-02-17 08:14'}, 'current': {'last_updated_epoch': 1739800800, 'last_updated': '2025-02-17 08:00', 'temp_c': 26.1, 'temp_f': 79.0, 'is_day': 1, 'condition': {'text': 'Partly cloudy', 'icon': '//cdn.weatherapi.com/weather/64x64/day/116.png', 'code': 1003}, 'wind_mph': 5.1, 'wind_kph': 8.3, 'wind_degree': 218, 'wind_dir': 'SW', 'pressure_mb': 1012.0, 'pressure_in': 29.88, 'precip_mm': 0.0, 'precip_in': 0.0, 'humidity': 89, 'cloud': 25, 'feelslike_c': 29.6, 'feelslike_f': 85.3, 'windchill_c': 24.3, 'windchill_f': 75.7, 'heatindex_c': 26.6, 'heatindex_f': 79.9, 'dewpoint_c': 21.6, 'dewpoint_f': 70.9, 'vis_km': 10.0, 'vis_miles': 6.0, 'uv': 0.6, 'gust_mph': 7.8, 'gust_kph': 12.6}}\\nWeather in Arizona in April 2025 - Detailed Forecast Weather in Arizona for April 2025 Your guide to Arizona weather in April - trends and predictions In general, the average temperature in Arizona at the beginning of April is 28.1\\xa0°F. Arizona in April average weather Temperatures trend during April in Arizona April weather day by day Our weather forecast for Arizona in April is based on the analysis of historical data rather than real-time forecast models. Arizona in April - FAQ How much rainfall should be expected in Arizona during April? Explore the daily rainfall trends and prepare for Arizonas April weather\\xa0💧 Get accurate weather forecasts for Arizona, located at latitude 33.448 and longitude -112.074. April Weather\\nArizona weather in April 2025, USA: How hot & sunny? Holidays Arizona weather in April 2025 Expect 29°C daytime maximum temperatures in the shade with on average 12 hours of sunshine per day in Arizona in April. Daytime temperatures usually reach 29°C in Phoenix, Arizona in April with low heat and humidity, falling to 11°C at night. There are usually 2 days with some rain in Phoenix, Arizona in April and the average monthly rainfall is 7mm. Arizona April sunrise & sunset times More holidays January sales Handpicked travel deals & holiday discounts We help you find the best travel deals for your holiday in the sun by sharing tips on when and where to go, before providing you with top discounts. Holidays\\nWeather in Phoenix in April 2025 (Arizona) - Detailed Weather Forecast for a Month Weather World United States Weather in Phoenix Weather in Phoenix in April 2025 Phoenix Weather Forecast for April 2025, is based on previous years' statistical data. +82°+68° +82°+66° +82°+68° +81°+66° +81°+66° +82°+68° +84°+68° +84°+70° +82°+66° +82°+68° +81°+66° +82°+70° +84°+70° +84°+72° +82°+66° +84°+68° +82°+68° +86°+70° +84°+70° +86°+72° +86°+72° +86°+72° +84°+70° +84°+72° +88°+73° +86°+72° +86°+72° +90°+75° +86°+73° +88°+73° Extended weather forecast in Phoenix HourlyWeek10-Day14-Day30-DayYear Weather in large and nearby cities Weather in Washington, D.C.+36° Sells+57° Mesa+61° Surprise+63° Tempe+63° Tempe Junction+63° Tucson+54° Winslow+48° Yuma+66° Scottsdale+61° Prescott Valley+45° Casa Grande+57° Casas Adobes+54° Chandler+61° Flagstaff+37° Gilbert+61° Maryvale Village+63° Drexel Heights+54° world's temperature today day day Copyright © 2025 «World-Weather.info» All rights reserved. Temperature units\\nArizona weather in April 2025 | Arizona 14 day weather Arizona  Arizona Arizona weather in April 2025 You can expect a few rainy days in Arizona during April, but usually the weather is comfortable in April. | Arizona in April | | Arizona in May | Temperatures in Arizona in April Weather in Arizona in April - FAQ The average temperature in Arizona in April is 18/29° C. On average, there are 1 rainy days in Arizona during April. The weather in Arizona in April is good. More about the weather in Arizona Arizona 14 day weather Long range weather for Arizona Arizona weather in February Arizona weather in March Arizona Webcam Weather tomorrow Hotels in Arizona\")]\n",
            "<class 'list'>\n",
            "'Finished running: research_info_search:'\n",
            "---DRAFT EMAIL WRITER---\n",
            "{'email_draft': \"Hi Sumbul,\\n\\nThank you so much for taking the time to share your experience with us about the weather during your stay at our resort. We truly value your feedback and apologize that the cloudy and overcast weather didn't meet your expectations.\\n\\nRegarding your question about the weather in Arizona in April, our research suggests that the average temperature at the beginning of April is around 28.1°F (79°C). You can expect daytime temperatures to reach around 29°C (84°F) with 12 hours of sunshine per day. There might be some rainy days, but generally, the weather is comfortable during this time.\\n\\nWe'll definitely take your feedback into consideration and strive to improve your experience in the future. If you have any more concerns or questions, please don't hesitate to reach out.\\n\\nThank you again for your feedback, and we hope to have the opportunity to welcome you back to our resort soon.\\n\\nBest regards,\\nHareem Zafar\\nResident Manager\"}\n",
            "---ROUTE TO REWRITE---\n",
            "{'router_decision': 'no_rewrite'}\n",
            "no_rewrite\n",
            "---ROUTE EMAIL TO FINAL EMAIL---\n",
            "'Finished running: draft_email_writer:'\n",
            "---NO REWRITE EMAIL ---\n",
            "'Finished running: no_rewrite:'\n",
            "---STATE PRINTER---\n",
            "Initial Email: HI there, \n",
            "\n",
            "I am emailing to say that the resort weather was way to cloudy and overcast. \n",
            "\n",
            "I wanted to write a song called 'Here comes the sun but it never came'\n",
            "\n",
            "What should be the weather in Arizona in April?\n",
            "\n",
            "I really hope you fix this next time.\n",
            "\n",
            "Thanks,\n",
            "sumbul\n",
            " \n",
            "\n",
            "Email Category: 'customer_complaint' \n",
            "\n",
            "Draft Email: Hi Sumbul,\n",
            "\n",
            "Thank you so much for taking the time to share your experience with us about the weather during your stay at our resort. We truly value your feedback and apologize that the cloudy and overcast weather didn't meet your expectations.\n",
            "\n",
            "Regarding your question about the weather in Arizona in April, our research suggests that the average temperature at the beginning of April is around 28.1°F (79°C). You can expect daytime temperatures to reach around 29°C (84°F) with 12 hours of sunshine per day. There might be some rainy days, but generally, the weather is comfortable during this time.\n",
            "\n",
            "We'll definitely take your feedback into consideration and strive to improve your experience in the future. If you have any more concerns or questions, please don't hesitate to reach out.\n",
            "\n",
            "Thank you again for your feedback, and we hope to have the opportunity to welcome you back to our resort soon.\n",
            "\n",
            "Best regards,\n",
            "Hareem Zafar\n",
            "Resident Manager \n",
            "\n",
            "Final Email: Hi Sumbul,\n",
            "\n",
            "Thank you so much for taking the time to share your experience with us about the weather during your stay at our resort. We truly value your feedback and apologize that the cloudy and overcast weather didn't meet your expectations.\n",
            "\n",
            "Regarding your question about the weather in Arizona in April, our research suggests that the average temperature at the beginning of April is around 28.1°F (79°C). You can expect daytime temperatures to reach around 29°C (84°F) with 12 hours of sunshine per day. There might be some rainy days, but generally, the weather is comfortable during this time.\n",
            "\n",
            "We'll definitely take your feedback into consideration and strive to improve your experience in the future. If you have any more concerns or questions, please don't hesitate to reach out.\n",
            "\n",
            "Thank you again for your feedback, and we hope to have the opportunity to welcome you back to our resort soon.\n",
            "\n",
            "Best regards,\n",
            "Hareem Zafar\n",
            "Resident Manager \n",
            "\n",
            "Research Info: [Document(metadata={}, page_content=\"{'location': {'name': 'Arizona', 'region': 'Atlantida', 'country': 'Honduras', 'lat': 15.6333, 'lon': -87.3167, 'tz_id': 'America/Tegucigalpa', 'localtime_epoch': 1739801651, 'localtime': '2025-02-17 08:14'}, 'current': {'last_updated_epoch': 1739800800, 'last_updated': '2025-02-17 08:00', 'temp_c': 26.1, 'temp_f': 79.0, 'is_day': 1, 'condition': {'text': 'Partly cloudy', 'icon': '//cdn.weatherapi.com/weather/64x64/day/116.png', 'code': 1003}, 'wind_mph': 5.1, 'wind_kph': 8.3, 'wind_degree': 218, 'wind_dir': 'SW', 'pressure_mb': 1012.0, 'pressure_in': 29.88, 'precip_mm': 0.0, 'precip_in': 0.0, 'humidity': 89, 'cloud': 25, 'feelslike_c': 29.6, 'feelslike_f': 85.3, 'windchill_c': 24.3, 'windchill_f': 75.7, 'heatindex_c': 26.6, 'heatindex_f': 79.9, 'dewpoint_c': 21.6, 'dewpoint_f': 70.9, 'vis_km': 10.0, 'vis_miles': 6.0, 'uv': 0.6, 'gust_mph': 7.8, 'gust_kph': 12.6}}\\nWeather in Arizona in April 2025 - Detailed Forecast Weather in Arizona for April 2025 Your guide to Arizona weather in April - trends and predictions In general, the average temperature in Arizona at the beginning of April is 28.1\\xa0°F. Arizona in April average weather Temperatures trend during April in Arizona April weather day by day Our weather forecast for Arizona in April is based on the analysis of historical data rather than real-time forecast models. Arizona in April - FAQ How much rainfall should be expected in Arizona during April? Explore the daily rainfall trends and prepare for Arizonas April weather\\xa0💧 Get accurate weather forecasts for Arizona, located at latitude 33.448 and longitude -112.074. April Weather\\nArizona weather in April 2025, USA: How hot & sunny? Holidays Arizona weather in April 2025 Expect 29°C daytime maximum temperatures in the shade with on average 12 hours of sunshine per day in Arizona in April. Daytime temperatures usually reach 29°C in Phoenix, Arizona in April with low heat and humidity, falling to 11°C at night. There are usually 2 days with some rain in Phoenix, Arizona in April and the average monthly rainfall is 7mm. Arizona April sunrise & sunset times More holidays January sales Handpicked travel deals & holiday discounts We help you find the best travel deals for your holiday in the sun by sharing tips on when and where to go, before providing you with top discounts. Holidays\\nWeather in Phoenix in April 2025 (Arizona) - Detailed Weather Forecast for a Month Weather World United States Weather in Phoenix Weather in Phoenix in April 2025 Phoenix Weather Forecast for April 2025, is based on previous years' statistical data. +82°+68° +82°+66° +82°+68° +81°+66° +81°+66° +82°+68° +84°+68° +84°+70° +82°+66° +82°+68° +81°+66° +82°+70° +84°+70° +84°+72° +82°+66° +84°+68° +82°+68° +86°+70° +84°+70° +86°+72° +86°+72° +86°+72° +84°+70° +84°+72° +88°+73° +86°+72° +86°+72° +90°+75° +86°+73° +88°+73° Extended weather forecast in Phoenix HourlyWeek10-Day14-Day30-DayYear Weather in large and nearby cities Weather in Washington, D.C.+36° Sells+57° Mesa+61° Surprise+63° Tempe+63° Tempe Junction+63° Tucson+54° Winslow+48° Yuma+66° Scottsdale+61° Prescott Valley+45° Casa Grande+57° Casas Adobes+54° Chandler+61° Flagstaff+37° Gilbert+61° Maryvale Village+63° Drexel Heights+54° world's temperature today day day Copyright © 2025 «World-Weather.info» All rights reserved. Temperature units\\nArizona weather in April 2025 | Arizona 14 day weather Arizona  Arizona Arizona weather in April 2025 You can expect a few rainy days in Arizona during April, but usually the weather is comfortable in April. | Arizona in April | | Arizona in May | Temperatures in Arizona in April Weather in Arizona in April - FAQ The average temperature in Arizona in April is 18/29° C. On average, there are 1 rainy days in Arizona during April. The weather in Arizona in April is good. More about the weather in Arizona Arizona 14 day weather Long range weather for Arizona Arizona weather in February Arizona weather in March Arizona Webcam Weather tomorrow Hotels in Arizona\")] \n",
            "\n",
            "Info Needed: False \n",
            "\n",
            "Num Steps: 4 \n",
            "\n",
            "'Finished running: state_printer:'\n"
          ]
        }
      ]
    },
    {
      "cell_type": "code",
      "source": [
        "output = app.invoke(inputs)\n",
        "\n",
        "print(output['final_email'])"
      ],
      "metadata": {
        "colab": {
          "base_uri": "https://localhost:8080/"
        },
        "id": "rtxm7wmOVe07",
        "outputId": "067363d7-7e31-4730-96b8-9b818243d4a8"
      },
      "execution_count": 33,
      "outputs": [
        {
          "output_type": "stream",
          "name": "stdout",
          "text": [
            "---CATEGORIZING INITIAL EMAIL---\n",
            "'customer_complaint'\n",
            "---ROUTE TO RESEARCH---\n",
            "{'router_decision': 'research_info'}\n",
            "research_info\n",
            "---ROUTE EMAIL TO RESEARCH INFO---\n",
            "---RESEARCH INFO SEARCHING---\n",
            "arizona april weather\n",
            "[Document(metadata={}, page_content=\"{'location': {'name': 'Arizona', 'region': 'Atlantida', 'country': 'Honduras', 'lat': 15.6333, 'lon': -87.3167, 'tz_id': 'America/Tegucigalpa', 'localtime_epoch': 1739801651, 'localtime': '2025-02-17 08:14'}, 'current': {'last_updated_epoch': 1739800800, 'last_updated': '2025-02-17 08:00', 'temp_c': 26.1, 'temp_f': 79.0, 'is_day': 1, 'condition': {'text': 'Partly cloudy', 'icon': '//cdn.weatherapi.com/weather/64x64/day/116.png', 'code': 1003}, 'wind_mph': 5.1, 'wind_kph': 8.3, 'wind_degree': 218, 'wind_dir': 'SW', 'pressure_mb': 1012.0, 'pressure_in': 29.88, 'precip_mm': 0.0, 'precip_in': 0.0, 'humidity': 89, 'cloud': 25, 'feelslike_c': 29.6, 'feelslike_f': 85.3, 'windchill_c': 24.3, 'windchill_f': 75.7, 'heatindex_c': 26.6, 'heatindex_f': 79.9, 'dewpoint_c': 21.6, 'dewpoint_f': 70.9, 'vis_km': 10.0, 'vis_miles': 6.0, 'uv': 0.6, 'gust_mph': 7.8, 'gust_kph': 12.6}}\\nWeather in Arizona in April 2025 - Detailed Forecast Weather in Arizona for April 2025 Your guide to Arizona weather in April - trends and predictions In general, the average temperature in Arizona at the beginning of April is 28.1\\xa0°F. Arizona in April average weather Temperatures trend during April in Arizona April weather day by day Our weather forecast for Arizona in April is based on the analysis of historical data rather than real-time forecast models. Arizona in April - FAQ How much rainfall should be expected in Arizona during April? Explore the daily rainfall trends and prepare for Arizonas April weather\\xa0💧 Get accurate weather forecasts for Arizona, located at latitude 33.448 and longitude -112.074. April Weather\\nArizona weather in April 2025, USA: How hot & sunny? Holidays Arizona weather in April 2025 Expect 29°C daytime maximum temperatures in the shade with on average 12 hours of sunshine per day in Arizona in April. Daytime temperatures usually reach 29°C in Phoenix, Arizona in April with low heat and humidity, falling to 11°C at night. There are usually 2 days with some rain in Phoenix, Arizona in April and the average monthly rainfall is 7mm. Arizona April sunrise & sunset times More holidays January sales Handpicked travel deals & holiday discounts We help you find the best travel deals for your holiday in the sun by sharing tips on when and where to go, before providing you with top discounts. Holidays\\nArizona weather in April 2025 | Arizona 14 day weather Arizona  Arizona Arizona weather in April 2025 You can expect a few rainy days in Arizona during April, but usually the weather is comfortable in April. | Arizona in April | | Arizona in May | Temperatures in Arizona in April Weather in Arizona in April - FAQ The average temperature in Arizona in April is 18/29° C. On average, there are 1 rainy days in Arizona during April. The weather in Arizona in April is good. More about the weather in Arizona Arizona 14 day weather Long range weather for Arizona Arizona weather in February Arizona weather in March Arizona Webcam Weather tomorrow Hotels in Arizona\\nWeather in Phoenix in April 2025 (Arizona) - Detailed Weather Forecast for a Month Weather World United States Weather in Phoenix Weather in Phoenix in April 2025 Phoenix Weather Forecast for April 2025, is based on previous years' statistical data. +82°+68° +82°+66° +82°+68° +81°+66° +81°+66° +82°+68° +84°+68° +84°+70° +82°+66° +82°+68° +81°+66° +82°+70° +84°+70° +84°+72° +82°+66° +84°+68° +82°+68° +86°+70° +84°+70° +86°+72° +86°+72° +86°+72° +84°+70° +84°+72° +88°+73° +86°+72° +86°+72° +90°+75° +86°+73° +88°+73° Extended weather forecast in Phoenix HourlyWeek10-Day14-Day30-DayYear Weather in large and nearby cities Weather in Washington, D.C.+36° Sells+57° Mesa+61° Surprise+63° Tempe+63° Tempe Junction+63° Tucson+54° Winslow+48° Yuma+66° Scottsdale+61° Prescott Valley+45° Casa Grande+57° Casas Adobes+54° Chandler+61° Flagstaff+37° Gilbert+61° Maryvale Village+63° Drexel Heights+54° world's temperature today day day Copyright © 2025 «World-Weather.info» All rights reserved. Temperature units\")]\n",
            "<class 'list'>\n",
            "---DRAFT EMAIL WRITER---\n",
            "{'email_draft': 'Dear Sumbul,\\n\\nThank you for reaching out to us about your experience with the resort weather. Sorry to hear that it was cloudy and overcast during your stay. \\n\\nRegarding your question about the weather in Arizona in April, our research suggests that the average temperature during this time is around 28.1°F (18/29°C). You can expect 12 hours of sunshine per day with occasional rainfall. \\n\\nWe appreciate your feedback and would like to assure you that we value your opinion. We will take your concerns into consideration to improve our services for the future.\\n\\nThank you again for your email, and we hope to see you again soon.\\n\\nBest regards,\\nHareem Zafar,\\nResident Manager'}\n",
            "---ROUTE TO REWRITE---\n",
            "{'router_decision': 'no_rewrite'}\n",
            "no_rewrite\n",
            "---ROUTE EMAIL TO FINAL EMAIL---\n",
            "---NO REWRITE EMAIL ---\n",
            "---STATE PRINTER---\n",
            "Initial Email: HI there, \n",
            "\n",
            "I am emailing to say that the resort weather was way to cloudy and overcast. \n",
            "\n",
            "I wanted to write a song called 'Here comes the sun but it never came'\n",
            "\n",
            "What should be the weather in Arizona in April?\n",
            "\n",
            "I really hope you fix this next time.\n",
            "\n",
            "Thanks,\n",
            "sumbul\n",
            " \n",
            "\n",
            "Email Category: 'customer_complaint' \n",
            "\n",
            "Draft Email: Dear Sumbul,\n",
            "\n",
            "Thank you for reaching out to us about your experience with the resort weather. Sorry to hear that it was cloudy and overcast during your stay. \n",
            "\n",
            "Regarding your question about the weather in Arizona in April, our research suggests that the average temperature during this time is around 28.1°F (18/29°C). You can expect 12 hours of sunshine per day with occasional rainfall. \n",
            "\n",
            "We appreciate your feedback and would like to assure you that we value your opinion. We will take your concerns into consideration to improve our services for the future.\n",
            "\n",
            "Thank you again for your email, and we hope to see you again soon.\n",
            "\n",
            "Best regards,\n",
            "Hareem Zafar,\n",
            "Resident Manager \n",
            "\n",
            "Final Email: Dear Sumbul,\n",
            "\n",
            "Thank you for reaching out to us about your experience with the resort weather. Sorry to hear that it was cloudy and overcast during your stay. \n",
            "\n",
            "Regarding your question about the weather in Arizona in April, our research suggests that the average temperature during this time is around 28.1°F (18/29°C). You can expect 12 hours of sunshine per day with occasional rainfall. \n",
            "\n",
            "We appreciate your feedback and would like to assure you that we value your opinion. We will take your concerns into consideration to improve our services for the future.\n",
            "\n",
            "Thank you again for your email, and we hope to see you again soon.\n",
            "\n",
            "Best regards,\n",
            "Hareem Zafar,\n",
            "Resident Manager \n",
            "\n",
            "Research Info: [Document(metadata={}, page_content=\"{'location': {'name': 'Arizona', 'region': 'Atlantida', 'country': 'Honduras', 'lat': 15.6333, 'lon': -87.3167, 'tz_id': 'America/Tegucigalpa', 'localtime_epoch': 1739801651, 'localtime': '2025-02-17 08:14'}, 'current': {'last_updated_epoch': 1739800800, 'last_updated': '2025-02-17 08:00', 'temp_c': 26.1, 'temp_f': 79.0, 'is_day': 1, 'condition': {'text': 'Partly cloudy', 'icon': '//cdn.weatherapi.com/weather/64x64/day/116.png', 'code': 1003}, 'wind_mph': 5.1, 'wind_kph': 8.3, 'wind_degree': 218, 'wind_dir': 'SW', 'pressure_mb': 1012.0, 'pressure_in': 29.88, 'precip_mm': 0.0, 'precip_in': 0.0, 'humidity': 89, 'cloud': 25, 'feelslike_c': 29.6, 'feelslike_f': 85.3, 'windchill_c': 24.3, 'windchill_f': 75.7, 'heatindex_c': 26.6, 'heatindex_f': 79.9, 'dewpoint_c': 21.6, 'dewpoint_f': 70.9, 'vis_km': 10.0, 'vis_miles': 6.0, 'uv': 0.6, 'gust_mph': 7.8, 'gust_kph': 12.6}}\\nWeather in Arizona in April 2025 - Detailed Forecast Weather in Arizona for April 2025 Your guide to Arizona weather in April - trends and predictions In general, the average temperature in Arizona at the beginning of April is 28.1\\xa0°F. Arizona in April average weather Temperatures trend during April in Arizona April weather day by day Our weather forecast for Arizona in April is based on the analysis of historical data rather than real-time forecast models. Arizona in April - FAQ How much rainfall should be expected in Arizona during April? Explore the daily rainfall trends and prepare for Arizonas April weather\\xa0💧 Get accurate weather forecasts for Arizona, located at latitude 33.448 and longitude -112.074. April Weather\\nArizona weather in April 2025, USA: How hot & sunny? Holidays Arizona weather in April 2025 Expect 29°C daytime maximum temperatures in the shade with on average 12 hours of sunshine per day in Arizona in April. Daytime temperatures usually reach 29°C in Phoenix, Arizona in April with low heat and humidity, falling to 11°C at night. There are usually 2 days with some rain in Phoenix, Arizona in April and the average monthly rainfall is 7mm. Arizona April sunrise & sunset times More holidays January sales Handpicked travel deals & holiday discounts We help you find the best travel deals for your holiday in the sun by sharing tips on when and where to go, before providing you with top discounts. Holidays\\nArizona weather in April 2025 | Arizona 14 day weather Arizona  Arizona Arizona weather in April 2025 You can expect a few rainy days in Arizona during April, but usually the weather is comfortable in April. | Arizona in April | | Arizona in May | Temperatures in Arizona in April Weather in Arizona in April - FAQ The average temperature in Arizona in April is 18/29° C. On average, there are 1 rainy days in Arizona during April. The weather in Arizona in April is good. More about the weather in Arizona Arizona 14 day weather Long range weather for Arizona Arizona weather in February Arizona weather in March Arizona Webcam Weather tomorrow Hotels in Arizona\\nWeather in Phoenix in April 2025 (Arizona) - Detailed Weather Forecast for a Month Weather World United States Weather in Phoenix Weather in Phoenix in April 2025 Phoenix Weather Forecast for April 2025, is based on previous years' statistical data. +82°+68° +82°+66° +82°+68° +81°+66° +81°+66° +82°+68° +84°+68° +84°+70° +82°+66° +82°+68° +81°+66° +82°+70° +84°+70° +84°+72° +82°+66° +84°+68° +82°+68° +86°+70° +84°+70° +86°+72° +86°+72° +86°+72° +84°+70° +84°+72° +88°+73° +86°+72° +86°+72° +90°+75° +86°+73° +88°+73° Extended weather forecast in Phoenix HourlyWeek10-Day14-Day30-DayYear Weather in large and nearby cities Weather in Washington, D.C.+36° Sells+57° Mesa+61° Surprise+63° Tempe+63° Tempe Junction+63° Tucson+54° Winslow+48° Yuma+66° Scottsdale+61° Prescott Valley+45° Casa Grande+57° Casas Adobes+54° Chandler+61° Flagstaff+37° Gilbert+61° Maryvale Village+63° Drexel Heights+54° world's temperature today day day Copyright © 2025 «World-Weather.info» All rights reserved. Temperature units\")] \n",
            "\n",
            "Info Needed: False \n",
            "\n",
            "Num Steps: 4 \n",
            "\n",
            "Dear Sumbul,\n",
            "\n",
            "Thank you for reaching out to us about your experience with the resort weather. Sorry to hear that it was cloudy and overcast during your stay. \n",
            "\n",
            "Regarding your question about the weather in Arizona in April, our research suggests that the average temperature during this time is around 28.1°F (18/29°C). You can expect 12 hours of sunshine per day with occasional rainfall. \n",
            "\n",
            "We appreciate your feedback and would like to assure you that we value your opinion. We will take your concerns into consideration to improve our services for the future.\n",
            "\n",
            "Thank you again for your email, and we hope to see you again soon.\n",
            "\n",
            "Best regards,\n",
            "Hareem Zafar,\n",
            "Resident Manager\n"
          ]
        }
      ]
    },
    {
      "cell_type": "code",
      "source": [
        "!cat /content/email_category.md"
      ],
      "metadata": {
        "colab": {
          "base_uri": "https://localhost:8080/"
        },
        "id": "a5lBE9MeVvpn",
        "outputId": "c289b950-ab46-496a-f4c7-1ad2c97e2cb8"
      },
      "execution_count": 34,
      "outputs": [
        {
          "output_type": "stream",
          "name": "stdout",
          "text": [
            "'customer_complaint'"
          ]
        }
      ]
    },
    {
      "cell_type": "code",
      "source": [
        "!cat /content/draft_email.md"
      ],
      "metadata": {
        "colab": {
          "base_uri": "https://localhost:8080/"
        },
        "id": "eNCcrjK4WACy",
        "outputId": "1b7d5f2c-58d0-4077-9b9f-d42b04b9f708"
      },
      "execution_count": 35,
      "outputs": [
        {
          "output_type": "stream",
          "name": "stdout",
          "text": [
            "Dear Sumbul,\n",
            "\n",
            "Thank you for reaching out to us about your experience with the resort weather. Sorry to hear that it was cloudy and overcast during your stay. \n",
            "\n",
            "Regarding your question about the weather in Arizona in April, our research suggests that the average temperature during this time is around 28.1°F (18/29°C). You can expect 12 hours of sunshine per day with occasional rainfall. \n",
            "\n",
            "We appreciate your feedback and would like to assure you that we value your opinion. We will take your concerns into consideration to improve our services for the future.\n",
            "\n",
            "Thank you again for your email, and we hope to see you again soon.\n",
            "\n",
            "Best regards,\n",
            "Hareem Zafar,\n",
            "Resident Manager"
          ]
        }
      ]
    }
  ]
}